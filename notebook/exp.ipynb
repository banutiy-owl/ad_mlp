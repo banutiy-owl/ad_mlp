{
 "cells": [
  {
   "cell_type": "code",
   "execution_count": 1,
   "id": "81630f0f",
   "metadata": {},
   "outputs": [
    {
     "data": {
      "text/plain": [
       "test! (generic function with 1 method)"
      ]
     },
     "metadata": {},
     "output_type": "display_data"
    }
   ],
   "source": [
    "using JLD2\n",
    "using Flux\n",
    "include(\"../src/ad.jl\")\n",
    "include(\"../src/operations.jl\")\n",
    "include(\"../src/mlp.jl\")"
   ]
  },
  {
   "cell_type": "code",
   "execution_count": 2,
   "id": "c9781c3c",
   "metadata": {},
   "outputs": [
    {
     "name": "stdout",
     "output_type": "stream",
     "text": [
      "typeof(X_train) = Adjoint{Float32, Matrix{Float32}}\n",
      "typeof(y_train) = BitMatrix\n"
     ]
    },
    {
     "data": {
      "text/plain": [
       "BitMatrix\u001b[90m (alias for \u001b[39m\u001b[90mBitArray{2}\u001b[39m\u001b[90m)\u001b[39m"
      ]
     },
     "metadata": {},
     "output_type": "display_data"
    }
   ],
   "source": [
    "X_train = load(\"../data/imdb_dataset_prepared.jld2\", \"X_train\")\n",
    "y_train = load(\"../data/imdb_dataset_prepared.jld2\", \"y_train\")\n",
    "X_test = load(\"../data/imdb_dataset_prepared.jld2\", \"X_test\")\n",
    "y_test = load(\"../data/imdb_dataset_prepared.jld2\", \"y_test\")\n",
    "\n",
    "@show typeof(X_train)\n",
    "@show typeof(y_train)\n"
   ]
  },
  {
   "cell_type": "code",
   "execution_count": 3,
   "id": "dfe9583b",
   "metadata": {},
   "outputs": [
    {
     "name": "stdout",
     "output_type": "stream",
     "text": [
      "Epoch 1:\n",
      "  Train Loss: 0.3431\n",
      "  Test  Loss: 0.3022, Accuracy: 87.55%\n",
      "Epoch 2:\n",
      "  Train Loss: 0.1051\n",
      "  Test  Loss: 0.3802, Accuracy: 86.65%\n",
      "Epoch 3:\n",
      "  Train Loss: 0.0478\n",
      "  Test  Loss: 0.4961, Accuracy: 84.75%\n",
      "Epoch 4:\n",
      "  Train Loss: 0.0256\n",
      "  Test  Loss: 0.6175, Accuracy: 83.8%\n",
      "Epoch 5:\n",
      "  Train Loss: 0.0151\n",
      "  Test  Loss: 0.7411, Accuracy: 83.3%\n"
     ]
    }
   ],
   "source": [
    "input_dim, n_samples = size(X_train)\n",
    "output_dim, _ = size(y_train)\n",
    "hidden_dim = 32\n",
    "epochs = 5\n",
    "lr = 0.001\n",
    "β1, β2, ϵ = 0.9, 0.999, 1e-8\n",
    "\n",
    "Wh, Wo = create_mlp(input_dim, hidden_dim, output_dim)\n",
    "stateWh = AdamState(size(Wh.output))\n",
    "stateWo = AdamState(size(Wo.output))\n",
    "\n",
    "x_var = Variable(X_train[:, 1], name=\"x\")\n",
    "y_var = Variable(y_train[:, 1], name=\"y\")\n",
    "graph, x_var, y_var, ŷ = build_graph(x_var, y_var, Wh, Wo, dense, σ)\n",
    "\n",
    "for epoch in 1:epochs\n",
    "    total_loss = 0.0\n",
    "    for i in 1:n_samples\n",
    "        x_var.output .= X_train[:, i]\n",
    "        y_var.output .= y_train[:, i]\n",
    "        loss = train_step!(x_var, y_var, Wh, Wo, lr, (stateWh, stateWo), β1, β2, ϵ, graph)\n",
    "        total_loss += loss\n",
    "    end\n",
    "\n",
    "    avg_train_loss = total_loss / n_samples\n",
    "    test_loss, test_accuracy = test!(X_test, y_test, graph, x_var, y_var, ŷ)\n",
    "\n",
    "    stateWh = AdamState(size(Wh.output))\n",
    "    stateWo = AdamState(size(Wo.output))\n",
    "\n",
    "    println(\"Epoch $epoch:\")\n",
    "    println(\"  Train Loss: $(round(avg_train_loss, digits=4))\")\n",
    "    println(\"  Test  Loss: $(round(test_loss, digits=4)), Accuracy: $(round(test_accuracy, digits=2))%\")\n",
    "end\n"
   ]
  }
 ],
 "metadata": {
  "kernelspec": {
   "display_name": "Julia 1.11.5",
   "language": "julia",
   "name": "julia-1.11"
  },
  "language_info": {
   "file_extension": ".jl",
   "mimetype": "application/julia",
   "name": "julia",
   "version": "1.11.5"
  }
 },
 "nbformat": 4,
 "nbformat_minor": 5
}
